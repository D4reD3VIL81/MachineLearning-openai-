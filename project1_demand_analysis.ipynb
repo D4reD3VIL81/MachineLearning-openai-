{
 "cells": [
  {
   "cell_type": "code",
   "execution_count": 1,
   "id": "1186cf64",
   "metadata": {},
   "outputs": [],
   "source": [
    "import json\n",
    "import pandas as pd\n",
    "import numpy as np\n",
    "import matplotlib.pyplot as plt\n",
    "\n",
    "# read json data file\n",
    "f=open('taxi_requests.json')\n",
    "data = json.load(f)\n",
    "f.close()\n",
    "\n",
    "login_times=data['request_time']\n",
    "\n",
    "# uncomment next line to see how the data looks like\n",
    "#display(login_times) \n",
    "#data"
   ]
  },
  {
   "cell_type": "code",
   "execution_count": 2,
   "id": "32d35eb7",
   "metadata": {},
   "outputs": [],
   "source": [
    "# convert time string to timestamps\n",
    "from datetime import datetime as dt\n",
    "timestamps=[dt.strptime(login_times[i], '%Y-%m-%d %H:%M:%S').timestamp() for i in range(len(login_times))]\n",
    "# timestamps"
   ]
  },
  {
   "cell_type": "code",
   "execution_count": 3,
   "id": "8634ac0f",
   "metadata": {},
   "outputs": [
    {
     "data": {
      "text/html": [
       "<div>\n",
       "<style scoped>\n",
       "    .dataframe tbody tr th:only-of-type {\n",
       "        vertical-align: middle;\n",
       "    }\n",
       "\n",
       "    .dataframe tbody tr th {\n",
       "        vertical-align: top;\n",
       "    }\n",
       "\n",
       "    .dataframe thead th {\n",
       "        text-align: right;\n",
       "    }\n",
       "</style>\n",
       "<table border=\"1\" class=\"dataframe\">\n",
       "  <thead>\n",
       "    <tr style=\"text-align: right;\">\n",
       "      <th></th>\n",
       "      <th>string</th>\n",
       "    </tr>\n",
       "  </thead>\n",
       "  <tbody>\n",
       "    <tr>\n",
       "      <th>0</th>\n",
       "      <td>1970-01-01 20:13:18</td>\n",
       "    </tr>\n",
       "    <tr>\n",
       "      <th>1</th>\n",
       "      <td>1970-01-01 20:16:10</td>\n",
       "    </tr>\n",
       "    <tr>\n",
       "      <th>2</th>\n",
       "      <td>1970-01-01 20:16:37</td>\n",
       "    </tr>\n",
       "    <tr>\n",
       "      <th>3</th>\n",
       "      <td>1970-01-01 20:16:36</td>\n",
       "    </tr>\n",
       "    <tr>\n",
       "      <th>4</th>\n",
       "      <td>1970-01-01 20:26:21</td>\n",
       "    </tr>\n",
       "    <tr>\n",
       "      <th>...</th>\n",
       "      <td>...</td>\n",
       "    </tr>\n",
       "    <tr>\n",
       "      <th>93137</th>\n",
       "      <td>1970-04-13 18:50:19</td>\n",
       "    </tr>\n",
       "    <tr>\n",
       "      <th>93138</th>\n",
       "      <td>1970-04-13 18:43:56</td>\n",
       "    </tr>\n",
       "    <tr>\n",
       "      <th>93139</th>\n",
       "      <td>1970-04-13 18:54:02</td>\n",
       "    </tr>\n",
       "    <tr>\n",
       "      <th>93140</th>\n",
       "      <td>1970-04-13 18:57:38</td>\n",
       "    </tr>\n",
       "    <tr>\n",
       "      <th>93141</th>\n",
       "      <td>1970-04-13 18:54:23</td>\n",
       "    </tr>\n",
       "  </tbody>\n",
       "</table>\n",
       "<p>93142 rows × 1 columns</p>\n",
       "</div>"
      ],
      "text/plain": [
       "                    string\n",
       "0      1970-01-01 20:13:18\n",
       "1      1970-01-01 20:16:10\n",
       "2      1970-01-01 20:16:37\n",
       "3      1970-01-01 20:16:36\n",
       "4      1970-01-01 20:26:21\n",
       "...                    ...\n",
       "93137  1970-04-13 18:50:19\n",
       "93138  1970-04-13 18:43:56\n",
       "93139  1970-04-13 18:54:02\n",
       "93140  1970-04-13 18:57:38\n",
       "93141  1970-04-13 18:54:23\n",
       "\n",
       "[93142 rows x 1 columns]"
      ]
     },
     "execution_count": 3,
     "metadata": {},
     "output_type": "execute_result"
    }
   ],
   "source": [
    "# convert time string to data frame\n",
    "df = pd.DataFrame(login_times, columns=['string']) # create first column (main column)\n",
    "df"
   ]
  },
  {
   "cell_type": "code",
   "execution_count": 14,
   "id": "ee9da50b",
   "metadata": {},
   "outputs": [
    {
     "data": {
      "text/html": [
       "<div>\n",
       "<style scoped>\n",
       "    .dataframe tbody tr th:only-of-type {\n",
       "        vertical-align: middle;\n",
       "    }\n",
       "\n",
       "    .dataframe tbody tr th {\n",
       "        vertical-align: top;\n",
       "    }\n",
       "\n",
       "    .dataframe thead th {\n",
       "        text-align: right;\n",
       "    }\n",
       "</style>\n",
       "<table border=\"1\" class=\"dataframe\">\n",
       "  <thead>\n",
       "    <tr style=\"text-align: right;\">\n",
       "      <th></th>\n",
       "      <th>string</th>\n",
       "      <th>year</th>\n",
       "      <th>month</th>\n",
       "      <th>day</th>\n",
       "      <th>hour</th>\n",
       "      <th>minute</th>\n",
       "      <th>second</th>\n",
       "      <th>weekday</th>\n",
       "    </tr>\n",
       "  </thead>\n",
       "  <tbody>\n",
       "    <tr>\n",
       "      <th>0</th>\n",
       "      <td>1970-01-01 20:13:18</td>\n",
       "      <td>1970</td>\n",
       "      <td>1</td>\n",
       "      <td>1</td>\n",
       "      <td>20</td>\n",
       "      <td>13</td>\n",
       "      <td>18</td>\n",
       "      <td>3</td>\n",
       "    </tr>\n",
       "    <tr>\n",
       "      <th>1</th>\n",
       "      <td>1970-01-01 20:16:10</td>\n",
       "      <td>1970</td>\n",
       "      <td>1</td>\n",
       "      <td>1</td>\n",
       "      <td>20</td>\n",
       "      <td>16</td>\n",
       "      <td>10</td>\n",
       "      <td>3</td>\n",
       "    </tr>\n",
       "    <tr>\n",
       "      <th>2</th>\n",
       "      <td>1970-01-01 20:16:37</td>\n",
       "      <td>1970</td>\n",
       "      <td>1</td>\n",
       "      <td>1</td>\n",
       "      <td>20</td>\n",
       "      <td>16</td>\n",
       "      <td>37</td>\n",
       "      <td>3</td>\n",
       "    </tr>\n",
       "    <tr>\n",
       "      <th>3</th>\n",
       "      <td>1970-01-01 20:16:36</td>\n",
       "      <td>1970</td>\n",
       "      <td>1</td>\n",
       "      <td>1</td>\n",
       "      <td>20</td>\n",
       "      <td>16</td>\n",
       "      <td>36</td>\n",
       "      <td>3</td>\n",
       "    </tr>\n",
       "    <tr>\n",
       "      <th>4</th>\n",
       "      <td>1970-01-01 20:26:21</td>\n",
       "      <td>1970</td>\n",
       "      <td>1</td>\n",
       "      <td>1</td>\n",
       "      <td>20</td>\n",
       "      <td>26</td>\n",
       "      <td>21</td>\n",
       "      <td>3</td>\n",
       "    </tr>\n",
       "  </tbody>\n",
       "</table>\n",
       "</div>"
      ],
      "text/plain": [
       "                string  year  month  day  hour  minute  second  weekday\n",
       "0  1970-01-01 20:13:18  1970      1    1    20      13      18        3\n",
       "1  1970-01-01 20:16:10  1970      1    1    20      16      10        3\n",
       "2  1970-01-01 20:16:37  1970      1    1    20      16      37        3\n",
       "3  1970-01-01 20:16:36  1970      1    1    20      16      36        3\n",
       "4  1970-01-01 20:26:21  1970      1    1    20      26      21        3"
      ]
     },
     "execution_count": 14,
     "metadata": {},
     "output_type": "execute_result"
    }
   ],
   "source": [
    "# Creating every column due to needed information\n",
    "df['year'] = df['string'].apply(lambda row:dt.strptime(row, '%Y-%m-%d %H:%M:%S').year)\n",
    "df['month'] = df['string'].apply(lambda row:dt.strptime(row, '%Y-%m-%d %H:%M:%S').month)\n",
    "df['day'] = df['string'].apply(lambda row:dt.strptime(row, '%Y-%m-%d %H:%M:%S').day)\n",
    "df['hour'] = df['string'].apply(lambda row:dt.strptime(row, '%Y-%m-%d %H:%M:%S').hour)\n",
    "df['minute'] = df['string'].apply(lambda row:dt.strptime(row, '%Y-%m-%d %H:%M:%S').minute)\n",
    "df['second'] = df['string'].apply(lambda row:dt.strptime(row, '%Y-%m-%d %H:%M:%S').second)\n",
    "df['weekday'] = df['string'].apply(lambda row:dt.strptime(row, '%Y-%m-%d %H:%M:%S').weekday())\n",
    "\n",
    "df.head()"
   ]
  },
  {
   "cell_type": "markdown",
   "id": "d11ea248",
   "metadata": {},
   "source": [
    "# Written questions\n",
    "\n",
    "Please search online and read the documentation for strptime() and timestamp() and write down short answers to the following questions:\n",
    "\n",
    "A- What does the previous cell do? It converts string format to timestamp format.\n",
    "\n",
    "B- What does the concept of \"timestamp\" mean? What are its type and unit? Timestamp is the pandas equivalent of python’s Datetime and is interchangeable with it in most cases. It’s the type used for the entries that make up a DatetimeIndex, and other timeseries oriented data structures in pandas.\n",
    "Type: DateTime\n",
    "\n",
    "C- Is the variable \"timestamps\" a list or a numpy array? It's a list.\n",
    "\n",
    "D- Which day of week (Sunday, Monday, ...) is 1970-01-01? Thursday\n",
    "\n",
    "E- Which function can convert a timestamp back to datetime? parse_dates()\n"
   ]
  },
  {
   "cell_type": "code",
   "execution_count": 5,
   "id": "d955fb77",
   "metadata": {},
   "outputs": [
    {
     "name": "stdout",
     "output_type": "stream",
     "text": [
      "Thursday\n"
     ]
    }
   ],
   "source": [
    "# Question D\n",
    "d = pd.Timestamp('1970-01-01')\n",
    "print(d.day_name())"
   ]
  },
  {
   "cell_type": "markdown",
   "id": "33c6c4d8",
   "metadata": {},
   "source": [
    "# Project questions\n",
    "\n",
    "Explore data, write code, and search online to answer the following questions about the data:\n",
    "\n",
    "1- How many days are there in the data?\n",
    "\n",
    "2- Which date was the busiest date (the day with the most requests)? Which date was the second busiest date?\n",
    "\n",
    "3- Which hour was the busiest hour (the hour with the most requests)?\n",
    "\n",
    "4- Are there any two requests that happened at the same time?\n",
    "\n",
    "5- What is the longest gap between two consequent requests?\n",
    "\n",
    "6- Overall, does the volume of requests increase or decrease over time?\n",
    "\n",
    "7- Bonus: For each day calculate the average request time for all requests between 6:00 AM and 9:00 AM\n",
    "\n",
    "8- Bonus: Which day of week is the busiest?\n",
    "\n",
    "9- Bonus: Calculate the average number of requests for each of the 7*24 hours of the week.\n",
    "\n",
    "10- Bonus: Which dates other than the standard weekend days were holidays?"
   ]
  },
  {
   "cell_type": "markdown",
   "id": "07a11f61",
   "metadata": {},
   "source": [
    "## Problem 1 Solution:"
   ]
  },
  {
   "cell_type": "code",
   "execution_count": 6,
   "id": "76f59245",
   "metadata": {},
   "outputs": [
    {
     "name": "stdout",
     "output_type": "stream",
     "text": [
      "103 unique days are in the data.\n"
     ]
    }
   ],
   "source": [
    "day_number=np.array(timestamps).astype(int)//(24*60*60) # list all days\n",
    "counts = np.unique(day_number) # make a list of all unique days\n",
    "\n",
    "print(str(len(counts)) + \" unique days are in the data.\")"
   ]
  },
  {
   "cell_type": "markdown",
   "id": "590c2ad9",
   "metadata": {},
   "source": [
    "## Problem 2 Solution:"
   ]
  },
  {
   "cell_type": "code",
   "execution_count": 7,
   "id": "dd16a91f",
   "metadata": {},
   "outputs": [
    {
     "name": "stdout",
     "output_type": "stream",
     "text": [
      "the busiest day is day number 92\n"
     ]
    }
   ],
   "source": [
    "day_number=np.array(timestamps).astype(int)//(24*60*60) # find day number for all requests\n",
    "unique, counts = np.unique(day_number, return_counts=True) # find how many requests are in each day\n",
    "maxday=np.argmax(counts) # find the day with the maximum requests\n",
    "\n",
    "print(\"the busiest day is day number\",unique[maxday])"
   ]
  },
  {
   "cell_type": "markdown",
   "id": "3de7d7d4",
   "metadata": {},
   "source": [
    "## Problem 3 Solution:"
   ]
  },
  {
   "cell_type": "code",
   "execution_count": 8,
   "id": "9c91a317",
   "metadata": {},
   "outputs": [
    {
     "data": {
      "image/png": "[encoded data removed]",
      "text/plain": [
       "<Figure size 432x288 with 1 Axes>"
      ]
     },
     "metadata": {
      "needs_background": "light"
     },
     "output_type": "display_data"
    },
    {
     "name": "stdout",
     "output_type": "stream",
     "text": [
      "22\n"
     ]
    }
   ],
   "source": [
    "df_temp_01 = df.hour.value_counts(normalize=False) # counts every hour due to their index\n",
    "plt.bar(df_temp_01.index, df_temp_01.values)\n",
    "plt.show()\n",
    "print(\"22\")"
   ]
  },
  {
   "cell_type": "markdown",
   "id": "e986ddcb",
   "metadata": {},
   "source": [
    "## Problem 4 Solution:"
   ]
  },
  {
   "cell_type": "code",
   "execution_count": 9,
   "id": "4a6a7a77",
   "metadata": {},
   "outputs": [
    {
     "name": "stdout",
     "output_type": "stream",
     "text": [
      "There are some requests that happened at the same time.\n"
     ]
    }
   ],
   "source": [
    "def same_time(time_list): # iterate and find the repeated request\n",
    "    \n",
    "    for i in range(len(time_list)-1):\n",
    "        \n",
    "        if time_list[i] == time_list[i+1]:\n",
    "            return True\n",
    "        \n",
    "    return False\n",
    "\n",
    "if same_time(timestamps):\n",
    "    print('There are some requests that happened at the same time.')\n",
    "else:\n",
    "    print(\"\"\"There aren't any requests that happened at the same time\"\"\")"
   ]
  },
  {
   "cell_type": "markdown",
   "id": "13adf454",
   "metadata": {},
   "source": [
    "## Problem 5 Solution:"
   ]
  },
  {
   "cell_type": "code",
   "execution_count": 10,
   "id": "4d85f063",
   "metadata": {},
   "outputs": [
    {
     "name": "stdout",
     "output_type": "stream",
     "text": [
      "The longest gap between two request is 4401 seconds.\n"
     ]
    }
   ],
   "source": [
    "def find_gap(gap_list): # list all gaps\n",
    "    \n",
    "    result = []\n",
    "    \n",
    "    for i in range(len(gap_list)-1):\n",
    "        \n",
    "        result.append(gap_list[i+1] - gap_list[i])\n",
    "        \n",
    "    return result\n",
    "\n",
    "arr = np.array(find_gap(timestamps))\n",
    "\n",
    "print('The longest gap between two request is ' + str(arr.argmax()) + \" seconds.\") # print the longest gap"
   ]
  },
  {
   "cell_type": "markdown",
   "id": "c27e220d",
   "metadata": {},
   "source": [
    "## Problem 6 Solution:"
   ]
  },
  {
   "cell_type": "code",
   "execution_count": 11,
   "id": "d7b2229d",
   "metadata": {},
   "outputs": [
    {
     "data": {
      "text/plain": [
       "<seaborn.axisgrid.FacetGrid at 0x7fd3f2106460>"
      ]
     },
     "execution_count": 11,
     "metadata": {},
     "output_type": "execute_result"
    },
    {
     "data": {
      "image/png": "[encoded data removed]",
      "text/plain": [
       "<Figure size 360x360 with 1 Axes>"
      ]
     },
     "metadata": {
      "needs_background": "light"
     },
     "output_type": "display_data"
    }
   ],
   "source": [
    "import seaborn as sns\n",
    "\n",
    "sns.displot(timestamps, kind='kde', bw_adjust=0.15)"
   ]
  },
  {
   "cell_type": "code",
   "execution_count": 12,
   "id": "e6f18ffe",
   "metadata": {},
   "outputs": [
    {
     "name": "stdout",
     "output_type": "stream",
     "text": [
      "The number of requests increases overtime.\n"
     ]
    }
   ],
   "source": [
    "print('The number of requests increases overtime.') # you can see from plot"
   ]
  },
  {
   "cell_type": "markdown",
   "id": "c4501dbb",
   "metadata": {},
   "source": [
    "## Problem 7 Solution:"
   ]
  },
  {
   "cell_type": "code",
   "execution_count": null,
   "id": "0bd7bf8c",
   "metadata": {},
   "outputs": [],
   "source": []
  },
  {
   "cell_type": "markdown",
   "id": "ba5f2119",
   "metadata": {},
   "source": [
    "## Problem 8 Solution:"
   ]
  },
  {
   "cell_type": "code",
   "execution_count": 13,
   "id": "ce136390",
   "metadata": {},
   "outputs": [
    {
     "data": {
      "image/png": "[encoded data removed]",
      "text/plain": [
       "<Figure size 432x288 with 1 Axes>"
      ]
     },
     "metadata": {
      "needs_background": "light"
     },
     "output_type": "display_data"
    },
    {
     "name": "stdout",
     "output_type": "stream",
     "text": [
      "Friday is the busiest day of the week.\n"
     ]
    }
   ],
   "source": [
    "df_temp_02 = df.weekday.value_counts(normalize=False) # counts every request due to their day\n",
    "plt.bar(df_temp_02.index, df_temp_02.values)\n",
    "plt.show()\n",
    "print(\"Friday is the busiest day of the week.\")"
   ]
  },
  {
   "cell_type": "markdown",
   "id": "2b8dc34b",
   "metadata": {},
   "source": [
    "## Problem 9 Solution:"
   ]
  },
  {
   "cell_type": "code",
   "execution_count": null,
   "id": "34aea503",
   "metadata": {},
   "outputs": [],
   "source": []
  },
  {
   "cell_type": "markdown",
   "id": "43989362",
   "metadata": {},
   "source": [
    "## Problem 10 Solution:"
   ]
  },
  {
   "cell_type": "code",
   "execution_count": null,
   "id": "789fae16",
   "metadata": {},
   "outputs": [],
   "source": []
  },
  {
   "cell_type": "code",
   "execution_count": null,
   "id": "b8a9a416",
   "metadata": {},
   "outputs": [],
   "source": []
  }
 ],
 "metadata": {
  "kernelspec": {
   "display_name": "Python 3 (ipykernel)",
   "language": "python",
   "name": "python3"
  },
  "language_info": {
   "codemirror_mode": {
    "name": "ipython",
    "version": 3
   },
   "file_extension": ".py",
   "mimetype": "text/x-python",
   "name": "python",
   "nbconvert_exporter": "python",
   "pygments_lexer": "ipython3",
   "version": "3.9.7"
  }
 },
 "nbformat": 4,
 "nbformat_minor": 5
}
