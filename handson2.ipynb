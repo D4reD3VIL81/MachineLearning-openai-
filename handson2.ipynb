{
 "cells": [
  {
   "cell_type": "code",
   "execution_count": 1,
   "id": "87d9eba2",
   "metadata": {},
   "outputs": [
    {
     "name": "stdout",
     "output_type": "stream",
     "text": [
      "The original list : [4, 5, 8, 9, 10]\n",
      "Standard deviation of sample is : 2.3151673805580453\n"
     ]
    }
   ],
   "source": [
    "#1- Given the list of all 2-digit numbers\n",
    "#calculate the mean and standard deviation of all numbers in this list.\n",
    "\n",
    "test_list = [4, 5, 8, 9, 10]\n",
    "  \n",
    "print(\"The original list : \" + str(test_list))\n",
    "  \n",
    "mean = sum(test_list) / len(test_list)\n",
    "variance = sum([((x - mean) ** 2) for x in test_list]) / len(test_list)\n",
    "res = variance ** 0.5\n",
    "  \n",
    "print(\"Standard deviation of sample is : \" + str(res))\n",
    "    "
   ]
  },
  {
   "cell_type": "code",
   "execution_count": 18,
   "id": "34cc1708",
   "metadata": {},
   "outputs": [
    {
     "name": "stdout",
     "output_type": "stream",
     "text": [
      "Enter n: 6\n",
      "[]\n",
      "[0, 1, 2, 3, 4, 5]\n",
      "Loop: \n",
      "[0]\n",
      "[1, 2, 3, 4, 5]\n",
      "Loop: \n",
      "[0, 1]\n",
      "[2, 3, 4, 5]\n",
      "Loop: \n",
      "[0, 1, 2]\n",
      "[3, 4, 5]\n",
      "Loop: \n",
      "[0, 1, 2, 3]\n",
      "[4, 5]\n",
      "Loop: \n",
      "[0, 1, 2, 3, 4]\n",
      "[5]\n",
      "Result: \n",
      "[0, 1, 2, 3, 4, 5]\n"
     ]
    }
   ],
   "source": [
    "#2- write a code to print all possible permutations of length n.\n",
    "#For example, given n=3, we have 6 permutations: [1,2,3],[1,3,2],[2,1,3],[2,3,1],[3,1,2],[3,2,1]\n",
    "\n",
    "n = int(input(\"Enter n: \"))\n",
    "    \n",
    "my_list = list(range(n))\n",
    "\n",
    "def permutation(f, permute_list, temp_list):\n",
    "\n",
    "    print(temp_list)\n",
    "    print(permute_list)\n",
    "\n",
    "    temp_list.append(f)\n",
    "    permute_list.remove(f)\n",
    "\n",
    "    if len(permute_list) == 0:\n",
    "        print(\"Result: \")\n",
    "        print(temp_list)\n",
    "    \n",
    "    for i in permute_list:\n",
    "        print(\"Loop: \")\n",
    "        permutation(i, permute_list, temp_list)\n",
    "\n",
    "for i in my_list:\n",
    "    permutation(i, my_list, [])"
   ]
  },
  {
   "cell_type": "code",
   "execution_count": 20,
   "id": "8b842799",
   "metadata": {},
   "outputs": [
    {
     "name": "stdout",
     "output_type": "stream",
     "text": [
      "{'Lorem': 1, 'ipsum': 1, 'dolor': 2, 'sit': 2, 'amet.': 1, 'Ad': 1, 'saepe': 1, 'aut': 3, 'accusantium': 1, 'ducimus': 1, 'quaerat': 1, 'commodi': 1, 'vel': 2, 'sint': 3, 'neque': 1, 'non': 1, 'fuga': 1, 'consequuntur.': 1, 'At': 1, 'odio': 2, 'ad': 1, 'laudantium': 1, 'vitae': 1, 'sed': 1, 'dolor.': 1, 'Vel': 1, 'galisum': 1, 'sapiente': 1, 'alias': 1, 'asperiores': 1, 'ut': 1, 'pariatur': 1, 'culpa': 1, 'dignissimos': 1, 'cumque': 1, 'id': 1, 'fugit': 1, 'provident.': 1}\n"
     ]
    }
   ],
   "source": [
    "# 3- given a long text, count the number of occurences of all words in the text in a python dictionary.\n",
    "# s='Python is a high-level, interpreted, general-purpose programming language. Its design philosophy emphasizes code readability with the use of significant indentation. Python is dynamically-typed and garbage-collected. It supports multiple programming paradigms, including structured (particularly procedural), object-oriented and functional programming. It is often described as a \"batteries included\" language due to its comprehensive standard library. Guido van Rossum began working on Python in the late 1980s as a successor to the ABC programming language and first released it in 1991 as Python 0.9.0.[34] Python 2.0 was released in 2000 and introduced new features such as list comprehensions, cycle-detecting garbage collection, reference counting, and Unicode support. Python 3.0, released in 2008, was a major revision that is not completely backward-compatible with earlier versions. Python 2 was discontinued with version 2.7.18 in 2020. Python consistently ranks as one of the most popular programming languages.'\n",
    "\n",
    "text = \"Lorem ipsum dolor sit amet. Ad saepe aut accusantium ducimus sit quaerat commodi vel sint neque non fuga consequuntur. At odio sint ad laudantium vitae sed odio dolor. Vel galisum sapiente vel alias asperiores ut pariatur culpa aut dignissimos sint aut cumque dolor id fugit provident.\"\n",
    "\n",
    "words_list = text.split()\n",
    "words_set = text.split()\n",
    "\n",
    "words_dict = {}\n",
    "\n",
    "for w in words_set:\n",
    "    words_dict[w] = 0\n",
    "    \n",
    "for w in words_list:\n",
    "    words_dict[w] += 1\n",
    "\n",
    "print(words_dict)"
   ]
  },
  {
   "cell_type": "code",
   "execution_count": 19,
   "id": "41b1d7f4",
   "metadata": {},
   "outputs": [
    {
     "name": "stdout",
     "output_type": "stream",
     "text": [
      "{0: 2, 1: 8, 2: 4, 3: 9, 4: 1, 5: 6, 6: 7, 7: 3, 8: 0, 9: 5}\n"
     ]
    }
   ],
   "source": [
    "# 4-\n",
    "import numpy as np\n",
    "np.random.seed(0)\n",
    "n=10\n",
    "perm=np.random.permutation(10)\n",
    "d={i:perm[i] for i in range(n)}\n",
    "print(d)"
   ]
  },
  {
   "cell_type": "code",
   "execution_count": null,
   "id": "3152193b",
   "metadata": {},
   "outputs": [],
   "source": [
    "# A directed graph is given with dictionary d.\n",
    "# Count how many separate cycles there are in this graph\n",
    "\n"
   ]
  }
 ],
 "metadata": {
  "kernelspec": {
   "display_name": "Python 3 (ipykernel)",
   "language": "python",
   "name": "python3"
  },
  "language_info": {
   "codemirror_mode": {
    "name": "ipython",
    "version": 3
   },
   "file_extension": ".py",
   "mimetype": "text/x-python",
   "name": "python",
   "nbconvert_exporter": "python",
   "pygments_lexer": "ipython3",
   "version": "3.9.7"
  }
 },
 "nbformat": 4,
 "nbformat_minor": 5
}
