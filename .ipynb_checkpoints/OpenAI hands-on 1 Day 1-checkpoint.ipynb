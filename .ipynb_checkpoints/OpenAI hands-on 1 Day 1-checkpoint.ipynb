{
 "cells": [
  {
   "cell_type": "markdown",
   "id": "eeb1ade4",
   "metadata": {},
   "source": [
    "### 1-\n",
    "add all the items in this list: ['1','2','2.5','3.5']\n"
   ]
  },
  {
   "cell_type": "code",
   "execution_count": null,
   "id": "62b42805",
   "metadata": {},
   "outputs": [],
   "source": [
    "w_list = ['1','2','2.5','3.5']\n",
    "\n",
    "sum = 0\n",
    "\n",
    "for i in w_list:\n",
    "    sum = sum + float(i)\n",
    "    "
   ]
  },
  {
   "cell_type": "markdown",
   "id": "fbdf211f",
   "metadata": {},
   "source": [
    "### 2- \n",
    "calculate the average of all 2-digit integers. (numbers 10 to 99)\n"
   ]
  },
  {
   "cell_type": "code",
   "execution_count": null,
   "id": "908f5093",
   "metadata": {},
   "outputs": [],
   "source": [
    "sum = 0\n",
    "count = 0\n",
    "for i in range(10,100):\n",
    "    sum = sum + 1\n",
    "    count += 1\n",
    "    \n",
    "result = sum / count"
   ]
  },
  {
   "cell_type": "markdown",
   "id": "eb3bd609",
   "metadata": {},
   "source": [
    "### 3- \n",
    "Given a variable, check if it is prime (a prime number is a number that is divisible only by itself and 1)\n"
   ]
  },
  {
   "cell_type": "code",
   "execution_count": null,
   "id": "27f87528",
   "metadata": {},
   "outputs": [],
   "source": [
    "n = int(input(\"Enter digit:\"))\n",
    "\n",
    "def is_prime(n) -> bool:\n",
    "\n",
    "    for i in range(n):\n",
    "\n",
    "        for j in range(r-1):\n",
    "\n",
    "            if i % j == 0 and j != 1 and j == i:\n",
    "                return False\n",
    "            \n",
    "    return True"
   ]
  },
  {
   "cell_type": "markdown",
   "id": "a8e01dc6",
   "metadata": {},
   "source": [
    "### 4- \n",
    "Given a variable, write a function to check if it is a prime number. You should handle all data types and corner cases (Numbers less than 2)\n"
   ]
  },
  {
   "cell_type": "code",
   "execution_count": null,
   "id": "e74878e6",
   "metadata": {},
   "outputs": [],
   "source": [
    "n = int(input(\"Enter digit:\"))\n",
    "\n",
    "def is_prime(n) -> bool:\n",
    "\n",
    "    for i in range(n):\n",
    "\n",
    "        for j in range(r-1):\n",
    "\n",
    "            if i % j == 0 and j != 1 and j == i:\n",
    "                return False\n",
    "            \n",
    "    return True"
   ]
  },
  {
   "cell_type": "markdown",
   "id": "13ec0f87",
   "metadata": {},
   "source": [
    "### 5- \n",
    "make a list of prime numbers less than 100.\n"
   ]
  },
  {
   "cell_type": "code",
   "execution_count": null,
   "id": "48d1a3f7",
   "metadata": {},
   "outputs": [],
   "source": [
    "w_list = []\n",
    "\n",
    "for i in range(100):\n",
    "    \n",
    "    if is_prime(i):\n",
    "            w_list.append(i)"
   ]
  },
  {
   "cell_type": "markdown",
   "id": "f4eec208",
   "metadata": {},
   "source": [
    "### 6- \n",
    "make sets of integers S2, S3 less than 100 that are divisible by two, and three. Then take the intersection and union of the two sets. "
   ]
  },
  {
   "cell_type": "code",
   "execution_count": null,
   "id": "d65bde2d",
   "metadata": {},
   "outputs": [],
   "source": [
    "set_3 = ()\n",
    "set_2 = ()\n",
    "\n",
    "for i in range(100):\n",
    "    if i%2==0:\n",
    "        set_2.add(i)\n",
    "        \n",
    "    if i%3==0:\n",
    "        set_3.add(i)\n",
    "        \n",
    "inter_set = ()\n",
    "        \n",
    "for i in set_2:\n",
    "    \n",
    "    for j in set_3:\n",
    "        \n",
    "        if i==j:\n",
    "            inter_set.add(i)"
   ]
  },
  {
   "cell_type": "markdown",
   "id": "36bac5d8",
   "metadata": {},
   "source": [
    "### 7-\n",
    "Find the set of all numbers less than 100 that are divisible by 2 and 3 and not by 5.\n"
   ]
  },
  {
   "cell_type": "code",
   "execution_count": null,
   "id": "47b6fdbb",
   "metadata": {},
   "outputs": [],
   "source": [
    "resulted_set = ()\n",
    "\n",
    "for i in inter_set:\n",
    "    if i%5!=0:\n",
    "        resulted_set.remove(i)"
   ]
  },
  {
   "cell_type": "markdown",
   "id": "38d3a022",
   "metadata": {},
   "source": [
    "### 8- \n",
    "\n",
    "Write a code to generate this pattern given n number of lines:\n",
    "(For n = 6)\n",
    "### \\****** \n",
    "### \\***** \n",
    "### \\**** \n",
    "### \\*** \n",
    "### \\** \n",
    "### \\*\n",
    "\n"
   ]
  },
  {
   "cell_type": "code",
   "execution_count": null,
   "id": "92e8f426",
   "metadata": {},
   "outputs": [],
   "source": [
    "n = int(input(\"Enter n: \"))\n",
    "\n",
    "j = n\n",
    "\n",
    "for i in range(n)\n",
    "    \n",
    "    for j in range(j)\n",
    "    \n",
    "        print(\"*\")\n",
    "        j -= 1\n",
    "        \n"
   ]
  },
  {
   "cell_type": "markdown",
   "id": "feeb3cfa",
   "metadata": {},
   "source": [
    "### 9-\n",
    "write a code to reverse this string :\n",
    "\n",
    "\"I love python programming\" --> \"programming python love I\""
   ]
  },
  {
   "cell_type": "code",
   "execution_count": null,
   "id": "ece78ccd",
   "metadata": {},
   "outputs": [],
   "source": [
    "s = \"I love python programming\"\n",
    "\n",
    "list == s.split()\n",
    "\n",
    "list.reverse()\n",
    "\n",
    "for i in list:\n",
    "    print(i+\" \")"
   ]
  },
  {
   "cell_type": "markdown",
   "id": "a3700b20",
   "metadata": {},
   "source": [
    "### 10- \n",
    "Given this string, make a set of all words\n",
    "(You can use split and replace functions)"
   ]
  },
  {
   "cell_type": "code",
   "execution_count": 4,
   "id": "849f134b",
   "metadata": {},
   "outputs": [],
   "source": [
    "my_string = '''Python can be used on a server to create web applications.\n",
    "Python can be used alongside software to create workflows.\n",
    "Python can connect to database systems. It can also read and modify files.\n",
    "Python can be used to handle big data and perform complex mathematics.\n",
    "Python can be used for rapid prototyping, or for production-ready software development.'''\n",
    "\n",
    "my_list = my_string.split()\n",
    "\n",
    "my_set = ()\n",
    "\n",
    "for i in my_list:\n",
    "    my_set.add(i)"
   ]
  }
 ],
 "metadata": {
  "kernelspec": {
   "display_name": "Python 3 (ipykernel)",
   "language": "python",
   "name": "python3"
  },
  "language_info": {
   "codemirror_mode": {
    "name": "ipython",
    "version": 3
   },
   "file_extension": ".py",
   "mimetype": "text/x-python",
   "name": "python",
   "nbconvert_exporter": "python",
   "pygments_lexer": "ipython3",
   "version": "3.9.7"
  }
 },
 "nbformat": 4,
 "nbformat_minor": 5
}
