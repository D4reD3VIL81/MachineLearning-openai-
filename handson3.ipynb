{
 "cells": [
  {
   "cell_type": "markdown",
   "metadata": {},
   "source": [
    "# Hands-on 3"
   ]
  },
  {
   "cell_type": "markdown",
   "metadata": {},
   "source": [
    "**Execute the cell below. By running this cell, a dataset will be loaded from `patents_small.csv` file. In this notebook, you are asked to analyze this data in several ways. There are three numpy arrays in this dataset:**\n",
    "- `patent_number`: a unique identifier for each patetnt\n",
    "- `patent features`: a vector of 16 features describing several properties of each patent\n",
    "- `category`: the category to which a patent belongs "
   ]
  },
  {
   "cell_type": "code",
   "execution_count": 1,
   "metadata": {},
   "outputs": [],
   "source": [
    "import pandas as pd\n",
    "import numpy as np\n",
    "\n",
    "df = pd.read_csv('patents.csv')\n",
    "df.head()\n",
    "patent_number = df['publication_number'].to_numpy()\n",
    "patent_features = df['patent_embedding'].to_numpy()\n",
    "temp = []\n",
    "for i in range(patent_features.size):\n",
    "    s = str(patent_features[i])\n",
    "    s1 = s.replace(r'\\n', '')\n",
    "    temp.append(\n",
    "        np.array(s.split()[1:-1], dtype='float')[:16]\n",
    "    )\n",
    "\n",
    "patent_features = np.stack(temp)\n",
    "patent_category = df['category']"
   ]
  },
  {
   "cell_type": "markdown",
   "metadata": {},
   "source": [
    "<hr />"
   ]
  },
  {
   "cell_type": "code",
   "execution_count": 2,
   "metadata": {},
   "outputs": [
    {
     "data": {
      "text/html": [
       "<div>\n",
       "<style scoped>\n",
       "    .dataframe tbody tr th:only-of-type {\n",
       "        vertical-align: middle;\n",
       "    }\n",
       "\n",
       "    .dataframe tbody tr th {\n",
       "        vertical-align: top;\n",
       "    }\n",
       "\n",
       "    .dataframe thead th {\n",
       "        text-align: right;\n",
       "    }\n",
       "</style>\n",
       "<table border=\"1\" class=\"dataframe\">\n",
       "  <thead>\n",
       "    <tr style=\"text-align: right;\">\n",
       "      <th></th>\n",
       "      <th>publication_number</th>\n",
       "      <th>title</th>\n",
       "      <th>cpc_code</th>\n",
       "      <th>patent_embedding</th>\n",
       "      <th>category</th>\n",
       "    </tr>\n",
       "  </thead>\n",
       "  <tbody>\n",
       "    <tr>\n",
       "      <th>0</th>\n",
       "      <td>US-2019250858-A1</td>\n",
       "      <td>memory controller and operating method thereof</td>\n",
       "      <td>G06F3/061</td>\n",
       "      <td>[ 0.00135472  0.01564001 -0.04858465  0.039866...</td>\n",
       "      <td>1</td>\n",
       "    </tr>\n",
       "    <tr>\n",
       "      <th>1</th>\n",
       "      <td>US-1000462-A</td>\n",
       "      <td>corn planter</td>\n",
       "      <td>A01C9/00</td>\n",
       "      <td>[-4.44490612e-02  2.48770583e-02 -5.62837869e-...</td>\n",
       "      <td>6</td>\n",
       "    </tr>\n",
       "    <tr>\n",
       "      <th>2</th>\n",
       "      <td>KR-200146416-Y1</td>\n",
       "      <td>antitheft vehicle security system</td>\n",
       "      <td>B60R25/209</td>\n",
       "      <td>[-2.53110677e-02 -2.04547048e-02  8.63679312e-...</td>\n",
       "      <td>0</td>\n",
       "    </tr>\n",
       "    <tr>\n",
       "      <th>3</th>\n",
       "      <td>KR-0160422-B1</td>\n",
       "      <td>a door opening and shutting apparatus and meth...</td>\n",
       "      <td>D06F37/42</td>\n",
       "      <td>[ 1.21761542e-02  1.97522007e-02 -6.62921891e-...</td>\n",
       "      <td>1</td>\n",
       "    </tr>\n",
       "    <tr>\n",
       "      <th>4</th>\n",
       "      <td>US-952306-A</td>\n",
       "      <td>spray burner</td>\n",
       "      <td>B05B1/3033</td>\n",
       "      <td>[-0.00214472  0.01606156 -0.09518531  0.060160...</td>\n",
       "      <td>0</td>\n",
       "    </tr>\n",
       "    <tr>\n",
       "      <th>5</th>\n",
       "      <td>SU-580209-A1</td>\n",
       "      <td>method of render porous polymeric material hyd...</td>\n",
       "      <td>D06M15/05</td>\n",
       "      <td>[ 1.01572089e-02  7.45538250e-03 -4.03725468e-...</td>\n",
       "      <td>2</td>\n",
       "    </tr>\n",
       "  </tbody>\n",
       "</table>\n",
       "</div>"
      ],
      "text/plain": [
       "  publication_number                                              title  \\\n",
       "0   US-2019250858-A1     memory controller and operating method thereof   \n",
       "1       US-1000462-A                                       corn planter   \n",
       "2    KR-200146416-Y1                  antitheft vehicle security system   \n",
       "3      KR-0160422-B1  a door opening and shutting apparatus and meth...   \n",
       "4        US-952306-A                                       spray burner   \n",
       "5       SU-580209-A1  method of render porous polymeric material hyd...   \n",
       "\n",
       "     cpc_code                                   patent_embedding  category  \n",
       "0   G06F3/061  [ 0.00135472  0.01564001 -0.04858465  0.039866...         1  \n",
       "1    A01C9/00  [-4.44490612e-02  2.48770583e-02 -5.62837869e-...         6  \n",
       "2  B60R25/209  [-2.53110677e-02 -2.04547048e-02  8.63679312e-...         0  \n",
       "3   D06F37/42  [ 1.21761542e-02  1.97522007e-02 -6.62921891e-...         1  \n",
       "4  B05B1/3033  [-0.00214472  0.01606156 -0.09518531  0.060160...         0  \n",
       "5   D06M15/05  [ 1.01572089e-02  7.45538250e-03 -4.03725468e-...         2  "
      ]
     },
     "execution_count": 2,
     "metadata": {},
     "output_type": "execute_result"
    }
   ],
   "source": [
    "df.head(6)"
   ]
  },
  {
   "cell_type": "code",
   "execution_count": null,
   "metadata": {},
   "outputs": [],
   "source": []
  },
  {
   "cell_type": "markdown",
   "metadata": {},
   "source": [
    "1- Which patent has the highest norm? (Eucledian distance from origin)"
   ]
  },
  {
   "cell_type": "code",
   "execution_count": 3,
   "metadata": {},
   "outputs": [
    {
     "data": {
      "text/html": [
       "<div>\n",
       "<style scoped>\n",
       "    .dataframe tbody tr th:only-of-type {\n",
       "        vertical-align: middle;\n",
       "    }\n",
       "\n",
       "    .dataframe tbody tr th {\n",
       "        vertical-align: top;\n",
       "    }\n",
       "\n",
       "    .dataframe thead th {\n",
       "        text-align: right;\n",
       "    }\n",
       "</style>\n",
       "<table border=\"1\" class=\"dataframe\">\n",
       "  <thead>\n",
       "    <tr style=\"text-align: right;\">\n",
       "      <th></th>\n",
       "      <th>publication_number</th>\n",
       "      <th>title</th>\n",
       "      <th>cpc_code</th>\n",
       "      <th>patent_embedding</th>\n",
       "      <th>category</th>\n",
       "    </tr>\n",
       "  </thead>\n",
       "  <tbody>\n",
       "    <tr>\n",
       "      <th>1532</th>\n",
       "      <td>US-9132101-B2</td>\n",
       "      <td>administration form base on cross link hydroph...</td>\n",
       "      <td>A61K9/7053</td>\n",
       "      <td>[ 0.00012119  0.00289092  0.00991498  0.040858...</td>\n",
       "      <td>4</td>\n",
       "    </tr>\n",
       "    <tr>\n",
       "      <th>8197</th>\n",
       "      <td>DE-102016214943-A1</td>\n",
       "      <td>method for connect at least two component by m...</td>\n",
       "      <td>B21J15/285</td>\n",
       "      <td>[ 0.00012397  0.00621164 -0.02350419  0.055240...</td>\n",
       "      <td>1</td>\n",
       "    </tr>\n",
       "    <tr>\n",
       "      <th>284</th>\n",
       "      <td>KR-101839002-B1</td>\n",
       "      <td>method and apparatus for manufacture steel</td>\n",
       "      <td>C21C5/285</td>\n",
       "      <td>[ 0.00012399  0.02644511 -0.03588859  0.076242...</td>\n",
       "      <td>1</td>\n",
       "    </tr>\n",
       "    <tr>\n",
       "      <th>13734</th>\n",
       "      <td>US-6026375-A</td>\n",
       "      <td>method and apparatus for process order from cu...</td>\n",
       "      <td>G06Q10/08</td>\n",
       "      <td>[ 0.00012708  0.01930046 -0.03937088  0.052985...</td>\n",
       "      <td>1</td>\n",
       "    </tr>\n",
       "    <tr>\n",
       "      <th>1347</th>\n",
       "      <td>GB-393917-A</td>\n",
       "      <td>improvement in hydraulic press</td>\n",
       "      <td>B30B1/32</td>\n",
       "      <td>[ 0.00013582 -0.00563084 -0.03453488  0.104950...</td>\n",
       "      <td>1</td>\n",
       "    </tr>\n",
       "    <tr>\n",
       "      <th>...</th>\n",
       "      <td>...</td>\n",
       "      <td>...</td>\n",
       "      <td>...</td>\n",
       "      <td>...</td>\n",
       "      <td>...</td>\n",
       "    </tr>\n",
       "    <tr>\n",
       "      <th>11537</th>\n",
       "      <td>CA-966035-A</td>\n",
       "      <td>servo control oxygen regulator</td>\n",
       "      <td>B64D13/02</td>\n",
       "      <td>[-9.98747535e-03 -8.46586470e-03 -5.65457009e-...</td>\n",
       "      <td>0</td>\n",
       "    </tr>\n",
       "    <tr>\n",
       "      <th>2973</th>\n",
       "      <td>GB-282808-A</td>\n",
       "      <td>refrigerate machine in which the pumping of li...</td>\n",
       "      <td>F25B23/00</td>\n",
       "      <td>[-9.99331567e-03 -8.31488986e-04 -5.03838584e-...</td>\n",
       "      <td>0</td>\n",
       "    </tr>\n",
       "    <tr>\n",
       "      <th>10254</th>\n",
       "      <td>JP-5702294-B2</td>\n",
       "      <td>use of carboxymethylcellulose to control the d...</td>\n",
       "      <td>A61K31/167</td>\n",
       "      <td>[-9.99407750e-03 -3.21592507e-03 -3.14914137e-...</td>\n",
       "      <td>6</td>\n",
       "    </tr>\n",
       "    <tr>\n",
       "      <th>8898</th>\n",
       "      <td>AT-301322-T</td>\n",
       "      <td>cod mean and freshborn care system</td>\n",
       "      <td>G09F3/005</td>\n",
       "      <td>[-9.99480207e-03  1.28036318e-02 -3.53366658e-...</td>\n",
       "      <td>6</td>\n",
       "    </tr>\n",
       "    <tr>\n",
       "      <th>8912</th>\n",
       "      <td>EP-2519367-A4</td>\n",
       "      <td>system and method for filter molten metal</td>\n",
       "      <td>C22B9/023</td>\n",
       "      <td>[-9.99806542e-03  2.34614946e-02 -4.28330339e-...</td>\n",
       "      <td>6</td>\n",
       "    </tr>\n",
       "  </tbody>\n",
       "</table>\n",
       "<p>15689 rows × 5 columns</p>\n",
       "</div>"
      ],
      "text/plain": [
       "       publication_number                                              title  \\\n",
       "1532        US-9132101-B2  administration form base on cross link hydroph...   \n",
       "8197   DE-102016214943-A1  method for connect at least two component by m...   \n",
       "284       KR-101839002-B1         method and apparatus for manufacture steel   \n",
       "13734        US-6026375-A  method and apparatus for process order from cu...   \n",
       "1347          GB-393917-A                     improvement in hydraulic press   \n",
       "...                   ...                                                ...   \n",
       "11537         CA-966035-A                     servo control oxygen regulator   \n",
       "2973          GB-282808-A  refrigerate machine in which the pumping of li...   \n",
       "10254       JP-5702294-B2  use of carboxymethylcellulose to control the d...   \n",
       "8898          AT-301322-T                 cod mean and freshborn care system   \n",
       "8912        EP-2519367-A4          system and method for filter molten metal   \n",
       "\n",
       "         cpc_code                                   patent_embedding  category  \n",
       "1532   A61K9/7053  [ 0.00012119  0.00289092  0.00991498  0.040858...         4  \n",
       "8197   B21J15/285  [ 0.00012397  0.00621164 -0.02350419  0.055240...         1  \n",
       "284     C21C5/285  [ 0.00012399  0.02644511 -0.03588859  0.076242...         1  \n",
       "13734   G06Q10/08  [ 0.00012708  0.01930046 -0.03937088  0.052985...         1  \n",
       "1347     B30B1/32  [ 0.00013582 -0.00563084 -0.03453488  0.104950...         1  \n",
       "...           ...                                                ...       ...  \n",
       "11537   B64D13/02  [-9.98747535e-03 -8.46586470e-03 -5.65457009e-...         0  \n",
       "2973    F25B23/00  [-9.99331567e-03 -8.31488986e-04 -5.03838584e-...         0  \n",
       "10254  A61K31/167  [-9.99407750e-03 -3.21592507e-03 -3.14914137e-...         6  \n",
       "8898    G09F3/005  [-9.99480207e-03  1.28036318e-02 -3.53366658e-...         6  \n",
       "8912    C22B9/023  [-9.99806542e-03  2.34614946e-02 -4.28330339e-...         6  \n",
       "\n",
       "[15689 rows x 5 columns]"
      ]
     },
     "execution_count": 3,
     "metadata": {},
     "output_type": "execute_result"
    }
   ],
   "source": [
    "df.sort_values(['patent_embedding'])"
   ]
  },
  {
   "cell_type": "code",
   "execution_count": null,
   "metadata": {},
   "outputs": [],
   "source": [
    "# df.[['patent_embedding']].mean()"
   ]
  },
  {
   "cell_type": "code",
   "execution_count": 7,
   "metadata": {},
   "outputs": [],
   "source": [
    "# Error"
   ]
  },
  {
   "cell_type": "markdown",
   "metadata": {},
   "source": [
    "2- Find the two patents that are the farthest from eachother."
   ]
  },
  {
   "cell_type": "code",
   "execution_count": 4,
   "metadata": {},
   "outputs": [
    {
     "data": {
      "text/plain": [
       "patent_embedding    [-9.99806542e-03  2.34614946e-02 -4.28330339e-...\n",
       "dtype: object"
      ]
     },
     "execution_count": 4,
     "metadata": {},
     "output_type": "execute_result"
    }
   ],
   "source": [
    "df[['patent_embedding']].max()"
   ]
  },
  {
   "cell_type": "code",
   "execution_count": 5,
   "metadata": {},
   "outputs": [
    {
     "data": {
      "text/plain": [
       "patent_embedding    [ 0.00012119  0.00289092  0.00991498  0.040858...\n",
       "dtype: object"
      ]
     },
     "execution_count": 5,
     "metadata": {},
     "output_type": "execute_result"
    }
   ],
   "source": [
    "df[['patent_embedding']].min()"
   ]
  },
  {
   "cell_type": "markdown",
   "metadata": {},
   "source": [
    "3- Write a function that, given a patent number, finds its nearest neighbour.\n"
   ]
  },
  {
   "cell_type": "code",
   "execution_count": 8,
   "metadata": {},
   "outputs": [],
   "source": [
    "def find_nearest(patent):\n",
    "    return df.min(['patent_embedding'] - input)"
   ]
  },
  {
   "cell_type": "code",
   "execution_count": null,
   "metadata": {},
   "outputs": [],
   "source": []
  },
  {
   "cell_type": "markdown",
   "metadata": {},
   "source": [
    "4- For each patent category, find the cluster center. This quantity is computed by taking average of all patents associated with each cluster."
   ]
  },
  {
   "cell_type": "code",
   "execution_count": null,
   "metadata": {},
   "outputs": [],
   "source": []
  },
  {
   "cell_type": "markdown",
   "metadata": {},
   "source": [
    "5- How many patents have a nearest neighbour that is in the same category?"
   ]
  },
  {
   "cell_type": "code",
   "execution_count": null,
   "metadata": {},
   "outputs": [],
   "source": []
  },
  {
   "cell_type": "markdown",
   "metadata": {},
   "source": [
    "6- What is the average and std of distances between every pair of patents?\n"
   ]
  },
  {
   "cell_type": "code",
   "execution_count": null,
   "metadata": {},
   "outputs": [],
   "source": []
  },
  {
   "cell_type": "markdown",
   "metadata": {},
   "source": [
    "7- What is the average and std of distances between every pair of patents within a category?\n",
    "Using these calculated quantities, which cluster do you think is more condensed? Which one is more scattered?"
   ]
  },
  {
   "cell_type": "code",
   "execution_count": null,
   "metadata": {},
   "outputs": [],
   "source": []
  }
 ],
 "metadata": {
  "kernelspec": {
   "display_name": "Python 3 (ipykernel)",
   "language": "python",
   "name": "python3"
  },
  "language_info": {
   "codemirror_mode": {
    "name": "ipython",
    "version": 3
   },
   "file_extension": ".py",
   "mimetype": "text/x-python",
   "name": "python",
   "nbconvert_exporter": "python",
   "pygments_lexer": "ipython3",
   "version": "3.9.7"
  },
  "vscode": {
   "interpreter": {
    "hash": "25aba1949f44877099d449300e326e4451e69b41f5f01d7de2dc51cdf7c75fa4"
   }
  }
 },
 "nbformat": 4,
 "nbformat_minor": 2
}
