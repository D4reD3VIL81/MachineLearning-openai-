{
 "cells": [
  {
   "cell_type": "code",
   "execution_count": 32,
   "id": "fbf51f5c",
   "metadata": {},
   "outputs": [],
   "source": [
    "import pandas as pd\n",
    "import matplotlib.pyplot as plt"
   ]
  },
  {
   "cell_type": "code",
   "execution_count": 33,
   "id": "19632f36",
   "metadata": {},
   "outputs": [],
   "source": [
    "import requests\n",
    "from bs4 import BeautifulSoup as soup\n"
   ]
  },
  {
   "cell_type": "code",
   "execution_count": 34,
   "id": "11453807",
   "metadata": {},
   "outputs": [
    {
     "data": {
      "text/plain": [
       "'<!DOCTYPE html><html lang=\"fa\" dir=\"rtl\"><head><meta charSet=\"utf-8\"/><meta name=\"viewport\" content=\"width=device-width, initial-scale=1.0, maximum-scale=1.0, user-scalable=no\"/><link rel=\"apple-touch-icon\" href=\"/logo192.png\"/><link rel=\"preconnect\" href=\"https://dkstatics-public.digikala.com\"/><link rel=\"preconnect\" href=\"https://api.digikala.com\"/><link rel=\"preconnect\" href=\"https://tracker.digikala.com\"/><link rel=\"preconnect\" href=\"https://www.google-analytics.com\"/><link rel=\"preconnect\" href=\"https://analytics.google.com\"/><link rel=\"preconnect\" href=\"https://www.googletagmanager.com\"/><script>\\n            window.lazySizesConfig = window.lazySizesConfig || {};\\n            window.lazySizesConfig = Object.defineProperty({},\"loadMode\",{\\n                get: function() { return 1; },\\n                set: function(value) { /* Ignore any set value */ }\\n            });\\n            </script><script>\\n              var intrack_config = {\\n                app_key: \\'AAAAAQ\\',\\n                auth_key: \\'9dec6846-d538-4317-a588-7981acc6cc6a\\',\\n                public_key: \\'BAjsvXIpJlVFtBNDjXeJnuUDDctHmp9Tgoz_7eSb6SGXDxauCPpPnv9S8yrXu7UO194G7zTB7CKbWwLwLReRtgM=\\',\\n                nonStandardPhoneValidation: true,\\n                yekta_net_id: \\'intrack_digikala\\',\\n                mediaad_syncing: true,\\n              };\\n              (function (i, n, t, r, a, c, k) {\\n                o = i[\\'InTrack\\'] = i[\\'InTrack\\'] || {}; i[a] = i[a] || function () { (o.q = o.q || []).push(arguments); };\\n                s = n.createElement(t); s.defer = true; s.src = r; s.onload = function () { try { o.init(c) } catch { (err) => {} } };\\n                e = n.getElementsByTagName(t)[0]; e.parentNode.insertBefore(s, k);\\n              })(window, document, \\'script\\', \"//static1.intrack.ir/api/web/download/sdk/inTrack.min.js?v=4\", \"Intk\", intrack_config);</script><title>فروشگاه اینترنتی دیجی\\u200cکالا</title><meta name=\"description\" content=\"هر آنچه که نیاز دارید با بهترین قیمت از دیجی\\u200cکالا بخرید! جدیدترین انواع گوشی موبایل، لپ تاپ، لباس، لوازم آرایشی و بهداشتی، کتاب، لوازم خانگی، خودرو و... با امکان تعویض و مرجوعی آسان | ✓ارسال رايگان ✓پرداخت در محل ✓ضمانت بازگشت کالا - برای خرید کلیک کنید!\"/><meta name=\"msvalidate.01\" content=\"15B2F9DC1A9D64AEB0134F21A3D8A683\"/><meta name=\"fontiran.com:license\" content=\"THJBT\"/><link rel=\"canonical\" href=\"https://www.digikala.com/routing/\"/><link rel=\"icon\" type=\"image/png\" sizes=\"192x192\" href=\"/android-icon-192x192.png\"/><meta name=\"msapplication-TileColor\" content=\"#ffffff\"/><meta name=\"msapplication-TileImage\" content=\"/ms-icon-144x144.png\"/><meta name=\"theme-color\" content=\"#fb3449\"/><meta name=\"msapplication-navbutton-color\" content=\"#fb3449\"/><meta name=\"apple-mobile-web-app-status-bar-style\" content=\"#fb3449\"/><meta name=\"next-head-count\" content=\"22\"/><link rel=\"preload\" href=\"/_next/static/css/8a96a58de86637fc.css\" as=\"style\"/><link rel=\"stylesheet\" href=\"/_next/static/css/8a96a58de86637fc.css\" data-n-g=\"\"/><noscript data-n-css=\"\"></noscript><script defer=\"\" nomodule=\"\" src=\"/_next/static/chunks/polyfills-5cd94c89d3acac5f.js\"></script><script src=\"/_next/static/chunks/webpack-0fcd9223d690d8ea.js\" defer=\"\"></script><script src=\"/_next/static/chunks/framework-f819b332f07f6162.js\" defer=\"\"></script><script src=\"/_next/static/chunks/main-68a8f0879c91424b.js\" defer=\"\"></script><script src=\"/_next/static/chunks/pages/_app-131b6012ab1cd954.js\" defer=\"\"></script><script src=\"/_next/static/chunks/pages/routing-a8130536065828a6.js\" defer=\"\"></script><script src=\"/_next/static/YaTD3MBhr0n5Kxy-r3PHv/_buildManifest.js\" defer=\"\"></script><script src=\"/_next/static/YaTD3MBhr0n5Kxy-r3PHv/_ssgManifest.js\" defer=\"\"></script><script src=\"/_next/static/YaTD3MBhr0n5Kxy-r3PHv/_middlewareManifest.js\" defer=\"\"></script></head><body><div id=\"__next\" data-reactroot=\"\"><div class=\"pos-fixed ServicesLoaderWrapper_ServicesLoaderWrapper__loading__t2fXK\"><div class=\"d-flex ai-center jc-center w-100 h-100\"><div class=\"rounded-circle Loading-module_Loading__circle__VPFX- Loading-module_Loading__circle--low-emphasis__BFY3N\"></div><div class=\"rounded-circle Loading-module_Loading__circle__VPFX- Loading-module_Loading__circle--low-emphasis__BFY3N\"></div><div class=\"rounded-circle Loading-module_Loading__circle__VPFX- Loading-module_Loading__circle--low-emphasis__BFY3N\"></div></div></div></div><script id=\"__NEXT_DATA__\" type=\"application/json\">{\"props\":{\"pageProps\":{}},\"page\":\"/routing\",\"query\":{},\"buildId\":\"YaTD3MBhr0n5Kxy-r3PHv\",\"nextExport\":true,\"autoExport\":true,\"isFallback\":false,\"scriptLoader\":[]}</script></body></html>'"
      ]
     },
     "execution_count": 34,
     "metadata": {},
     "output_type": "execute_result"
    }
   ],
   "source": [
    "\n",
    "page = requests.get('https://www.digikala.com/search/category-gardening-tools/')\n",
    "page.text"
   ]
  },
  {
   "cell_type": "code",
   "execution_count": 35,
   "id": "6ec3fcfe",
   "metadata": {},
   "outputs": [],
   "source": [
    "from bs4 import BeautifulSoup"
   ]
  },
  {
   "cell_type": "code",
   "execution_count": 38,
   "id": "90510fa7",
   "metadata": {},
   "outputs": [],
   "source": [
    "soup = BeautifulSoup(page.content, 'html.parser')"
   ]
  },
  {
   "cell_type": "code",
   "execution_count": 39,
   "id": "00866436",
   "metadata": {},
   "outputs": [],
   "source": [
    "results = soup.find(id=\"modal-root\")"
   ]
  },
  {
   "cell_type": "raw",
   "id": "740b6148",
   "metadata": {},
   "source": []
  },
  {
   "cell_type": "code",
   "execution_count": 40,
   "id": "384d9c29",
   "metadata": {},
   "outputs": [
    {
     "ename": "AttributeError",
     "evalue": "'NoneType' object has no attribute 'text'",
     "output_type": "error",
     "traceback": [
      "\u001b[0;31m---------------------------------------------------------------------------\u001b[0m",
      "\u001b[0;31mAttributeError\u001b[0m                            Traceback (most recent call last)",
      "\u001b[0;32m/tmp/ipykernel_3338/3596361801.py\u001b[0m in \u001b[0;36m<module>\u001b[0;34m\u001b[0m\n\u001b[0;32m----> 1\u001b[0;31m \u001b[0mresults\u001b[0m\u001b[0;34m.\u001b[0m\u001b[0mtext\u001b[0m\u001b[0;34m\u001b[0m\u001b[0;34m\u001b[0m\u001b[0m\n\u001b[0m",
      "\u001b[0;31mAttributeError\u001b[0m: 'NoneType' object has no attribute 'text'"
     ]
    }
   ],
   "source": []
  },
  {
   "cell_type": "code",
   "execution_count": null,
   "id": "7dea8db6",
   "metadata": {},
   "outputs": [],
   "source": []
  }
 ],
 "metadata": {
  "kernelspec": {
   "display_name": "Python 3 (ipykernel)",
   "language": "python",
   "name": "python3"
  },
  "language_info": {
   "codemirror_mode": {
    "name": "ipython",
    "version": 3
   },
   "file_extension": ".py",
   "mimetype": "text/x-python",
   "name": "python",
   "nbconvert_exporter": "python",
   "pygments_lexer": "ipython3",
   "version": "3.9.7"
  }
 },
 "nbformat": 4,
 "nbformat_minor": 5
}
